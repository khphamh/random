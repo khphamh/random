{
 "cells": [
  {
   "cell_type": "code",
   "execution_count": 1,
   "id": "c0a56ac1",
   "metadata": {},
   "outputs": [],
   "source": [
    "import os\n",
    "def awg_pulse_generator(pulse_list_1 = None, pulse_list_2 = None):\n",
    "    #pulse_list_1 = [ (NumPoints_1, NumLoops_1, '2047.5 + 2047.5*sin( 2.0*pi* x/(32) )' ), (NumPoints_2, NumLoops_2, 2047.5 + 2047.5*sin( 2.0*pi* x/(64) ) )     ]\n",
    "    s_1 = '#include <iostream>\\n#include <stdio.h>\\n#include <stdlib.h>\\n#include <math.h>\\n#include \"dax22000_lib_DLL32.h\"\\n'\n",
    "    s_2 = 'typedef struct {PVOID SegmentPtr; DWORD NumPoints; DWORD NumLoops; DWORD TrigEn;} SegmentStruct; int main(int argc, char** argv){DWORD NumCards = 0;DWORD CardNum = 1;DWORD Chan = 1;int x;double Actual_Frequency; double pi = 3.14159265358979;'\n",
    "\n",
    "    s_3 = ''\n",
    "    if pulse_list_1 != None: \n",
    "        s_3  = 'SegmentStruct SegmentArray1[' + str(len(pulse_list_1))+'];'\n",
    "\n",
    "        for i in range(len(pulse_list_1)):\n",
    "            temp_string = 'DWORD MemoryDepth' + str(i) +' = ' +str(pulse_list_1[i][0]) + ';WORD TempArray' + str(i) + '['  + str(pulse_list_1[i][0]) +'];for (x=0; x < (MemoryDepth'+str(i) +'); x++) {'\n",
    "            temp_string_2 = 'TempArray' + str(i) + '[x] = (unsigned int) ( ceil(' + pulse_list_1[i][2] + '));}'\n",
    "\n",
    "            s_3 = s_3 + temp_string+temp_string_2\n",
    "            segment_i = 'Segment' + str(i)\n",
    "            temp_string_3 = 'SegmentStruct ' + segment_i + ';' + segment_i +'.SegmentPtr = TempArray' + str(i) + ';'\n",
    "            temp_string_4 = segment_i +'.NumPoints =' + str(pulse_list_1[i][0]) + ';'\n",
    "            temp_string_5 = segment_i +'.NumLoops =' + str(pulse_list_1[i][1]) + ';'\n",
    "            temp_string_6 = segment_i + '.TrigEn = 1;'\n",
    "            segment_array_1 = 'SegmentArray1' + '[' + str(i) + '] =' + segment_i +';'\n",
    "\n",
    "            s_3 = s_3 + temp_string_3 + temp_string_4 + temp_string_5 + temp_string_6 + segment_array_1\n",
    "            \n",
    "    if pulse_list_2 != None:\n",
    "        s_3 += 'SegmentStruct SegmentArray2[' + str(len(pulse_list_2))+'];'\n",
    "        for i in range(len(pulse_list_2)): \n",
    "            temp_string = 'DWORD MemoryDepth' + str(i) +' = ' +str(pulse_list_2[i][0]) + ';WORD TempArrayB' + str(i) + '['  + str(pulse_list_2[i][0]) +'];for (x=0; x < (MemoryDepth'+str(i)+'); x++) {'\n",
    "            temp_string_2 = 'TempArrayB' + str(i) + '[x] = (unsigned int) ( ceil(' + pulse_list_2[i][2] + '));}'\n",
    "\n",
    "            s_3 = s_3 + temp_string+temp_string_2\n",
    "            segment_i = 'SegmentB' + str(i)\n",
    "            temp_string_3 = 'SegmentStruct ' + segment_i + ';' + segment_i +'.SegmentPtr = TempArray' + str(i) + ';'\n",
    "            temp_string_4 = segment_i +'.NumPoints =' + str(pulse_list_2[i][0]) + ';'\n",
    "            temp_string_5 = segment_i +'.NumLoops =' + str(pulse_list_2[i][1]) + ';'\n",
    "            temp_string_6 = segment_i + '.TrigEn = 1;'\n",
    "            segment_array_2 = 'SegmentArray2' + '[' + str(i) +'] =' + segment_i +';'\n",
    "            s_3 = s_3 + temp_string_3 + temp_string_4 + temp_string_5 + temp_string_6 + segment_array_2 \n",
    "    \n",
    "    s_4 = 'NumCards = DAx22000_GetNumCards();if (NumCards != 1) exit(0);x = DAx22000_Open(1);x = DAx22000_Initialize(1);Actual_Frequency = DAx22000_SetClkRate(1, 2.5e9);x = DAx22000_SelExtTrig(1, true);'\n",
    "    s_5 = ''\n",
    "    if pulse_list_1 != None:\n",
    "        s_5 = 'x = DAx22000_CreateSegments(1, 1,' +str(len(pulse_list_1)) + ', 2047, 2047,SegmentArray1, false);'\n",
    "    if pulse_list_2 != None:\n",
    "        s_5 = s_5 + 'x = DAx22000_CreateSegments(1, 2,' +str(len(pulse_list_2)) + ', 2047, 2047,SegmentArray2, false);'\n",
    "    \n",
    "    \n",
    "    s_6 = 'DAx22000_Run(1, false);std::cout << \"outputting\";std::cin.get();DAx22000_Stop(1);DAx22000_Close(1);DAx22000_PWR_DWN(1);return 0;}'\n",
    "\n",
    "\n",
    "    f = open(\"send_pulse.cpp\", \"w\")\n",
    "    f.write(s_1+s_2+s_3+s_4+s_5+s_6)\n",
    "    f.close()\n",
    "    f = open(\"send_pulse.cpp\", \"r\")\n",
    "\n",
    "    print(f.read())\n",
    "    f.close()\n",
    "\n",
    "    os.system('cd/')\n",
    "    os.system('cd Users/nateu/Yao Group')\n",
    "    os.system('g++ -o send_pulse.exe send_pulse.cpp ftd2xx.dll dax22000_lib_DLL32.dll')\n",
    "    os.startfile(\"C:Users/nateu/Yao Group/send_pulse.exe\")\n",
    "\n"
   ]
  },
  {
   "cell_type": "code",
   "execution_count": 2,
   "id": "d1082202",
   "metadata": {},
   "outputs": [
    {
     "name": "stdout",
     "output_type": "stream",
     "text": [
      "#include <iostream>\n",
      "#include <stdio.h>\n",
      "#include <stdlib.h>\n",
      "#include <math.h>\n",
      "#include \"dax22000_lib_DLL32.h\"\n",
      "typedef struct {PVOID SegmentPtr; DWORD NumPoints; DWORD NumLoops; DWORD TrigEn;} SegmentStruct; int main(int argc, char** argv){DWORD NumCards = 0;DWORD CardNum = 1;DWORD Chan = 1;int x;double Actual_Frequency; double pi = 3.14159265358979;SegmentStruct SegmentArray1[2];DWORD MemoryDepth0 = 256;WORD TempArray0[256];for (x=0; x < (MemoryDepth0); x++) {TempArray0[x] = (unsigned int) ( ceil(2047.5 + 2047.5*sin( 2.0*pi* x/(64) )));}SegmentStruct Segment0;Segment0.SegmentPtr = TempArray0;Segment0.NumPoints =256;Segment0.NumLoops =1;Segment0.TrigEn = 1;SegmentArray1[0] =Segment0;DWORD MemoryDepth1 = 1024;WORD TempArray1[1024];for (x=0; x < (MemoryDepth1); x++) {TempArray1[x] = (unsigned int) ( ceil(2047.5 + 2047.5*sin( 2.0*pi* x/(128) )));}SegmentStruct Segment1;Segment1.SegmentPtr = TempArray1;Segment1.NumPoints =1024;Segment1.NumLoops =1;Segment1.TrigEn = 1;SegmentArray1[1] =Segment1;NumCards = DAx22000_GetNumCards();if (NumCards != 1) exit(0);x = DAx22000_Open(1);x = DAx22000_Initialize(1);Actual_Frequency = DAx22000_SetClkRate(1, 2.5e9);x = DAx22000_SelExtTrig(1, true);x = DAx22000_CreateSegments(1, 1,2, 2047, 2047,SegmentArray1, false);DAx22000_Run(1, false);std::cout << \"outputting\";std::cin.get();DAx22000_Stop(1);DAx22000_Close(1);DAx22000_PWR_DWN(1);return 0;}\n"
     ]
    }
   ],
   "source": [
    "    awg_pulse_generator([(256, 1, '2047.5 + 2047.5*sin( 2.0*pi* x/(64) )'), (1024, 1, '2047.5 + 2047.5*sin( 2.0*pi* x/(128) )') ], None)"
   ]
  },
  {
   "cell_type": "code",
   "execution_count": null,
   "id": "8dd290ad",
   "metadata": {},
   "outputs": [],
   "source": []
  }
 ],
 "metadata": {
  "kernelspec": {
   "display_name": "Python 3 (ipykernel)",
   "language": "python",
   "name": "python3"
  },
  "language_info": {
   "codemirror_mode": {
    "name": "ipython",
    "version": 3
   },
   "file_extension": ".py",
   "mimetype": "text/x-python",
   "name": "python",
   "nbconvert_exporter": "python",
   "pygments_lexer": "ipython3",
   "version": "3.9.7"
  }
 },
 "nbformat": 4,
 "nbformat_minor": 5
}
